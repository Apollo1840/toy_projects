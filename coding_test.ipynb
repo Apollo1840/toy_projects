{
 "cells": [
  {
   "cell_type": "code",
   "execution_count": null,
   "metadata": {},
   "outputs": [],
   "source": [
    "# 1. usage of numpy\n",
    "\n",
    "# y_pred is a list of probability predictions from different model. dimension: (model, item, label)\n",
    "# if every model believes the prediction over 0.7 confidence, take it as the prediction of the group of models.   \n",
    "# target: please combine the predictions to the final prediction in the format of onehot vectors. \n",
    "#    please note: it can be multi-label.\n",
    "#                 dimension of final prediction: (item, label)\n",
    "\n",
    "import numpy as np\n",
    "\n",
    "y_pred = [np.reshape(range(12), (3,4))*0.08 for _ in range(5)]\n",
    "\n",
    "y_pred_final = ?"
   ]
  },
  {
   "cell_type": "code",
   "execution_count": null,
   "metadata": {},
   "outputs": [],
   "source": [
    "# 2. preprocess the signal\n",
    "\n",
    "# target: sig is a signal, please implement simple moving average algorithm (3 elements) to make it more smooth.\n",
    "# hint: https://en.wikipedia.org/wiki/Moving_average\n",
    "\n",
    "import matplotlib.pyplot as plt\n",
    "\n",
    "sig = [1,21,3,2,23,4,45,23, 125,65, 13,22,5,12, 6,13, 7,23]\n",
    "plt.plot(sig)\n",
    "\n",
    "sig_smooth = ?\n",
    "plt.plot(sig_smooth)"
   ]
  },
  {
   "cell_type": "code",
   "execution_count": null,
   "metadata": {},
   "outputs": [],
   "source": [
    "# 3. object-oriented\n",
    "\n",
    "# first you need to find your way to install wfdb to your python environments. \n",
    "# search online to find out how to do it.\n",
    "# then run:\n",
    "\n",
    "import wfdb\n",
    "\n",
    "record = wfdb.rdsamp(\"100\", pb_dir= \"mitdb\")[0]\n",
    "r_peaks = wfdb.rdann(\"100\", extension=\"atr\", pb_dir= \"mitdb\").sample\n",
    "\n",
    "# target: \n",
    "# please create a class called ECG, ecg takes record and r_peaks as initial parameters, \n",
    "#   and could run .extract_beats() to generate heartbeats, which will return a list of Heartbeats.\n",
    "\n",
    "# please create a class called Heartbeat, Heartbeat has 2 attributes: .data and .post_rr.\n",
    "#   .data is an array center at r_peak with 180 samples of the record. \n",
    "#   .post_rr is the interval between current r_peak and next r_peak, if there is no next r_peak, return None.\n",
    "\n",
    "ecg = ECG(record, r_peaks)\n",
    "hearbeats = ecg.extract_beats()\n",
    "for heartbeat in heartbeats[:3]:\n",
    "    assert len(heartbeat.data)==180\n",
    "    plt.plot(heartbeat.data)\n",
    "    print(\"the post_rr of the heartbeat\", heartbeat.post_rr)\n"
   ]
  },
  {
   "cell_type": "code",
   "execution_count": null,
   "metadata": {},
   "outputs": [],
   "source": [
    "# 4. data visualization\n",
    "\n",
    "elem = [\"a\", \"b\", \"b\", \"a\", \"a\", \"c\", \"c\", \"d\", \"b\", \"a\"]\n",
    "\n",
    "# target: create a bar plot of the number of different elements in elem and, the bars should sorted from long to short."
   ]
  }
 ],
 "metadata": {
  "kernelspec": {
   "display_name": "congyuml",
   "language": "python",
   "name": "congyuml"
  },
  "language_info": {
   "codemirror_mode": {
    "name": "ipython",
    "version": 3
   },
   "file_extension": ".py",
   "mimetype": "text/x-python",
   "name": "python",
   "nbconvert_exporter": "python",
   "pygments_lexer": "ipython3",
   "version": "3.6.9"
  }
 },
 "nbformat": 4,
 "nbformat_minor": 4
}
