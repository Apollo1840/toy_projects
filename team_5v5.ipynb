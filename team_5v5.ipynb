{
 "cells": [
  {
   "cell_type": "code",
   "execution_count": 1,
   "metadata": {},
   "outputs": [],
   "source": [
    "import random"
   ]
  },
  {
   "cell_type": "code",
   "execution_count": 2,
   "metadata": {},
   "outputs": [],
   "source": [
    "player_list = [\n",
    "    \"Congyu\",\n",
    "    \"Shangsu\",\n",
    "    \"Diqing\",\n",
    "    \"Wei\",\n",
    "    \"Jingtao\",\n",
    "    \"Shu\",\n",
    "    \"Kaiyou\",\n",
    "    \"Shuo\",\n",
    "    \"Jiyang\",\n",
    "    \"Kexin\"\n",
    "]"
   ]
  },
  {
   "cell_type": "code",
   "execution_count": 3,
   "metadata": {},
   "outputs": [],
   "source": [
    "def give2teams(playerlist):\n",
    "    random.shuffle(playerlist)\n",
    "    print(\"team A: {}\".format(playerlist[:5]))\n",
    "    print(\"team B: {}\".format(playerlist[5:]))"
   ]
  },
  {
   "cell_type": "code",
   "execution_count": 4,
   "metadata": {},
   "outputs": [],
   "source": [
    "# give2teams(player_list)"
   ]
  },
  {
   "cell_type": "code",
   "execution_count": 5,
   "metadata": {},
   "outputs": [],
   "source": [
    "def give2teams_withrole(playerlist, seed):\n",
    "    role_list = [\"tank/fighter\", \"magician\", \"assassin/fighter\", \"shooter\", \"assist\"]\n",
    "    random.seed(seed)\n",
    "    random.shuffle(playerlist)\n",
    "    \n",
    "    print(\"team A:\")\n",
    "    for r, p in zip(role_list, playerlist[:5]):\n",
    "        print(\"{} - {}\".format(p, r))\n",
    "    \n",
    "    print(\"-\"*20)\n",
    "    \n",
    "    print(\"team B:\")\n",
    "    for r, p in zip(role_list, playerlist[5:]):\n",
    "        print(\"{} - {}\".format(p, r))\n",
    "    \n",
    "        "
   ]
  },
  {
   "cell_type": "code",
   "execution_count": 6,
   "metadata": {},
   "outputs": [
    {
     "name": "stdout",
     "output_type": "stream",
     "text": [
      "team A:\n",
      "Shangsu - tank/fighter\n",
      "Congyu - magician\n",
      "Jingtao - assassin/fighter\n",
      "Shu - shooter\n",
      "Jiyang - assist\n",
      "--------------------\n",
      "team B:\n",
      "Kaiyou - tank/fighter\n",
      "Wei - magician\n",
      "Shuo - assassin/fighter\n",
      "Diqing - shooter\n",
      "Kexin - assist\n"
     ]
    }
   ],
   "source": [
    "give2teams_withrole(player_list, seed=2020)"
   ]
  },
  {
   "cell_type": "code",
   "execution_count": null,
   "metadata": {},
   "outputs": [],
   "source": []
  }
 ],
 "metadata": {
  "kernelspec": {
   "display_name": "congyuml",
   "language": "python",
   "name": "congyuml"
  },
  "language_info": {
   "codemirror_mode": {
    "name": "ipython",
    "version": 3
   },
   "file_extension": ".py",
   "mimetype": "text/x-python",
   "name": "python",
   "nbconvert_exporter": "python",
   "pygments_lexer": "ipython3",
   "version": "3.6.9"
  }
 },
 "nbformat": 4,
 "nbformat_minor": 4
}
